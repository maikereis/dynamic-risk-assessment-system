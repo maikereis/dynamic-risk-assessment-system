{
 "cells": [
  {
   "cell_type": "code",
   "execution_count": 6,
   "metadata": {},
   "outputs": [],
   "source": [
    "from pathlib import Path\n",
    "import pandas as pd"
   ]
  },
  {
   "cell_type": "code",
   "execution_count": 20,
   "metadata": {},
   "outputs": [],
   "source": [
    "files = list(Path('../data/practicedata/').glob('**/*.csv'))\n",
    "\n",
    "data_list = []\n",
    "for file in files:\n",
    "    if file.suffix == '.csv':\n",
    "        df = pd.read_csv(file)\n",
    "    elif file.suffix == '.txt':\n",
    "        df = pd.read_csv(file)\n",
    "    data_list.append(df)"
   ]
  }
 ],
 "metadata": {
  "kernelspec": {
   "display_name": "drisk",
   "language": "python",
   "name": "python3"
  },
  "language_info": {
   "codemirror_mode": {
    "name": "ipython",
    "version": 3
   },
   "file_extension": ".py",
   "mimetype": "text/x-python",
   "name": "python",
   "nbconvert_exporter": "python",
   "pygments_lexer": "ipython3",
   "version": "3.8.15 | packaged by conda-forge | (default, Nov 22 2022, 08:49:35) \n[GCC 10.4.0]"
  },
  "orig_nbformat": 4,
  "vscode": {
   "interpreter": {
    "hash": "30958d1e1da1c4638e28fba8ce24abdc8238f58695924a885d3095602806359b"
   }
  }
 },
 "nbformat": 4,
 "nbformat_minor": 2
}
